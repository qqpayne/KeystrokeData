{
 "cells": [
  {
   "cell_type": "code",
   "execution_count": 34,
   "metadata": {},
   "outputs": [],
   "source": [
    "import pandas as pd\n",
    "import numpy as np\n",
    "import matplotlib.pyplot as plt"
   ]
  },
  {
   "cell_type": "code",
   "execution_count": 35,
   "metadata": {},
   "outputs": [],
   "source": [
    "stat = pd.read_csv('../keyhistory.csv') # data to read\n",
    "stat[\"time\"] = (pd.to_datetime(stat[\"time\"], unit = 's'))"
   ]
  },
  {
   "cell_type": "code",
   "execution_count": null,
   "metadata": {},
   "outputs": [],
   "source": [
    "pd.set_option('display.max_rows', 10)"
   ]
  },
  {
   "cell_type": "code",
   "execution_count": null,
   "metadata": {},
   "outputs": [],
   "source": [
    "# TODO:\n",
    "#\n",
    "# интегральный график того сколько раз нажимал кнопку каждую\n",
    "# типа например кнопка А - 8 числа 500 нажатий, затем 9 числа еще 500 нажатий, \n",
    "# на графике 8 числа - 500, 9 числа - 1к\n",
    "# -------------------------------------\n",
    "# pie-чарт с топом нажатых кнопок\n",
    "# ------------------------------------\n",
    "# логгинг мыши с перспективой получения heatmap кликов "
   ]
  },
  {
   "cell_type": "code",
   "execution_count": 37,
   "metadata": {},
   "outputs": [],
   "source": [
    "def AllTimeStrokes():\n",
    "    \"\"\"клавиши и соответствующее им количество нажатий за все время\"\"\"\n",
    "    # аналогично stat.groupby(by='key').size()\n",
    "    # topN значений - head(N), что такое tail(N) понятно\n",
    "    return stat.key.value_counts()\n",
    "\n",
    "\n",
    "def SplitStrokes(scale = \"d\", data = stat, allowEmpty = True):\n",
    "    \"\"\"число нажатий, разбитое на промежутки, данные в аргументе\n",
    "    может считать нажатия отдельно взятой клавиши, см. аргумент data\n",
    "    может убирать пустые вхождения, см. аргумент allowEmpty\"\"\"\n",
    "    \n",
    "    if (scale == \"h\" or scale == \"H\"): # час\n",
    "        timing = \"1H\"\n",
    "    elif (scale == \"d\" or scale == \"D\"): # день\n",
    "        timing = \"24H\"\n",
    "    elif (scale == \"w\" or scale == \"W\"): # неделя\n",
    "        timing = \"1W\"\n",
    "    elif (scale == \"m\" or scale == \"M\"): # месяц\n",
    "        timing = \"1M\"\n",
    "    elif (scale == \"y\" or scale == \"Y\"): # год\n",
    "        timing = \"1A\"\n",
    "    else:\n",
    "        return 0\n",
    "    \n",
    "    resampled = data.resample(timing, on='time').size()\n",
    "    if (not allowEmpty):\n",
    "        return resampled[resampled != 0]\n",
    "    return resampled\n",
    "\n",
    "\n",
    "def Average(period):\n",
    "    \"\"\"среднее число нажатий за данный период\"\"\"\n",
    "    return period.mean()\n",
    "\n",
    "\n",
    "def GetKeyLog(key):\n",
    "    \"\"\"нажатия определенной клавиши за всё время\"\"\"\n",
    "    if key not in stat.key.drop_duplicates().tolist():\n",
    "        return 0\n",
    "    return stat.groupby(by='key').get_group(key)\n",
    "\n",
    "\n",
    "def InPeriod(data, start, offset):\n",
    "    \"\"\"возвращает интервал данных начиная со старта, заканчивая через оффсет времени\"\"\"\n",
    "    # объяснение, зачем обрезать последнюю запись: \n",
    "    # 01:00 соответствует интервалу с 01:00 до 02:00, тогда если мы претендуем\n",
    "    # дать данные за 2 часа, и мы начинаем с 3 часов ночи то мы должны давать \n",
    "    # записи 03:00 и 04:00 (это будет интервал 03:00-04:00 и 04:00-05:00, т.е 2 часа)\n",
    "    # но пандас по умолчанию при индексировании включает как первую, так и последнюю\n",
    "    # запись. то есть, взяв 03:00 и 2 hours, мы бы получили записи 03:00, 04:00 и 05:00\n",
    "    # а это уже не 2 часа, а 3\n",
    "    start_date = pd.Timestamp(start)\n",
    "    end_date = start_date + pd.Timedelta(offset)\n",
    "    return data[start_date : end_date].iloc[:-1] # обрезаем последнюю запись\n",
    "   "
   ]
  },
  {
   "cell_type": "code",
   "execution_count": 44,
   "metadata": {},
   "outputs": [
    {
     "name": "stdout",
     "output_type": "stream",
     "text": [
      "Среднее число нажатий любых клавиш за час за всё время: 739.75\n",
      "Среднее число нажатий клавиши A за час за всё время: 20.5\n",
      "Число нажатий клавиши A, разбитое по часам:\n",
      " time\n",
      "2020-08-12 10:00:00     3\n",
      "2020-08-12 11:00:00     0\n",
      "2020-08-12 12:00:00    62\n",
      "2020-08-12 13:00:00    17\n",
      "Freq: H, dtype: int64 \n",
      "\n",
      "Число нажатий клавиши A, разбитое по часам и без пустых интервалов:\n",
      " time\n",
      "2020-08-12 10:00:00     3\n",
      "2020-08-12 12:00:00    62\n",
      "2020-08-12 13:00:00    17\n",
      "dtype: int64 \n",
      "\n",
      "Среднее число нажатий любых клавиш за 2 часа 12/08/20 между 11 и 13 часами: 967.0\n"
     ]
    }
   ],
   "source": [
    "print(\"Среднее число нажатий любых клавиш за час за всё время:\",\n",
    "      Average(SplitStrokes(\"h\")))\n",
    "print(\"Среднее число нажатий клавиши A за час за всё время:\",\n",
    "     Average(SplitStrokes('h', GetKeyLog(\"A\"))))\n",
    "print(\"Число нажатий клавиши A, разбитое по часам:\\n\",\n",
    "     SplitStrokes('h', GetKeyLog(\"A\")), \"\\n\")\n",
    "print(\"Число нажатий клавиши A, разбитое по часам и без пустых интервалов:\\n\",\n",
    "     SplitStrokes('h', GetKeyLog(\"A\"), False), \"\\n\")\n",
    "print(\"Среднее число нажатий любых клавиш за 2 часа 12/08/20 между 11 и 13 часами:\",\n",
    "     Average(InPeriod(SplitStrokes('h'), \"2020-08-12 11:00:00\", \"2 hours\")))"
   ]
  },
  {
   "cell_type": "code",
   "execution_count": null,
   "metadata": {},
   "outputs": [],
   "source": []
  }
 ],
 "metadata": {
  "kernelspec": {
   "display_name": "Python 3",
   "language": "python",
   "name": "python3"
  },
  "language_info": {
   "codemirror_mode": {
    "name": "ipython",
    "version": 3
   },
   "file_extension": ".py",
   "mimetype": "text/x-python",
   "name": "python",
   "nbconvert_exporter": "python",
   "pygments_lexer": "ipython3",
   "version": "3.8.3"
  }
 },
 "nbformat": 4,
 "nbformat_minor": 4
}
