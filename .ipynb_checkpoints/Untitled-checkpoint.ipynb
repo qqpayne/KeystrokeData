{
 "cells": [
  {
   "cell_type": "code",
   "execution_count": 171,
   "metadata": {},
   "outputs": [],
   "source": [
    "import pandas as pd\n",
    "import numpy as np\n",
    "import matplotlib.pyplot as plt\n",
    "\n",
    "hoursPlusUTC = 3; # по москве живем"
   ]
  },
  {
   "cell_type": "code",
   "execution_count": 187,
   "metadata": {},
   "outputs": [],
   "source": [
    "stat = pd.read_csv('../keyhistory.csv') # data to read\n",
    "goodTime = (pd.to_datetime(stat[\"time\"], unit = 's') + pd.DateOffset(hours = hoursPlusUTC))\n",
    "stat[\"time\"] = goodTime"
   ]
  },
  {
   "cell_type": "code",
   "execution_count": null,
   "metadata": {},
   "outputs": [],
   "source": [
    "pd.set_option('display.max_rows', 10)"
   ]
  },
  {
   "cell_type": "code",
   "execution_count": 13,
   "metadata": {},
   "outputs": [],
   "source": [
    "# TODO:\n",
    "# интегральный график того сколько раз нажимал кнопку каждую\n",
    "# типа например кнопка А - 8 числа 500 нажатий, затем 9 числа еще 500 нажатий, \n",
    "# на графике 8 числа - 500, 9 числа - 1к"
   ]
  },
  {
   "cell_type": "code",
   "execution_count": 230,
   "metadata": {},
   "outputs": [],
   "source": [
    "def AllTimeStrokes():\n",
    "    \"\"\"клавиши и соответствующее им количество нажатий за все время\"\"\"\n",
    "    # аналогично stat.groupby(by='key').size()\n",
    "    # topN значений - head(N), что такое tail(N) понятно\n",
    "    return stat.key.value_counts()\n",
    "\n",
    "def StrokesInPeriod(period = \"d\", data = stat):\n",
    "    \"\"\"число нажатий, разбитое на промежутки, данные в аргументе\n",
    "    может считать нажатия отдельно взятой клавиши, см. аргумент data\"\"\"\n",
    "    \n",
    "    # ВОПРОС: а как поступать с пустыми периодами?\n",
    "    #         нужно ли их убирать из выдачи, или нет?\n",
    "    \n",
    "    if (period == \"h\" or period == \"H\"): # час\n",
    "        timing = \"1H\"\n",
    "    elif (period == \"d\" or period == \"D\"): # день\n",
    "        timing = \"24H\"\n",
    "    elif (period == \"w\" or period == \"W\"): # неделя\n",
    "        timing = \"1W\"\n",
    "    elif (period == \"m\" or period == \"M\"): # месяц\n",
    "        timing = \"1M\"\n",
    "    elif (period == \"y\" or period == \"Y\"): # год\n",
    "        timing = \"1A\"\n",
    "    else:\n",
    "        return 0\n",
    "    return data.resample(timing, on='time').size()\n",
    "\n",
    "def Average(period):\n",
    "    \"\"\"среднее число нажатий за данный период\"\"\"\n",
    "    # TODO: средние нажатия за, например, недели, но недели в данном году (а не вообще все)\n",
    "    #       или за час, но за час на этой неделе\n",
    "    return period.mean()\n",
    "\n",
    "def GetKeyLog(key):\n",
    "    \"\"\"нажатия определенной клавиши за всё время\"\"\"\n",
    "    if key not in stat.key.drop_duplicates().tolist():\n",
    "        return 0\n",
    "    return stat.groupby(by='key').get_group(key)"
   ]
  },
  {
   "cell_type": "code",
   "execution_count": 233,
   "metadata": {},
   "outputs": [
    {
     "name": "stdout",
     "output_type": "stream",
     "text": [
      "Среднее число нажатий любых клавиш за час за всё время: 1951.0\n",
      "Среднее число нажатий клавиши A за час за всё время: 44.0\n",
      "Число нажатий клавиши A, разбитое по часам:\n",
      " time\n",
      "2020-08-12 01:00:00    12\n",
      "2020-08-12 02:00:00    71\n",
      "2020-08-12 03:00:00    88\n",
      "2020-08-12 04:00:00     5\n",
      "Freq: H, dtype: int64\n"
     ]
    }
   ],
   "source": [
    "print(\"Среднее число нажатий любых клавиш за час за всё время:\",\n",
    "      Average(StrokesInPeriod(\"h\")))\n",
    "print(\"Среднее число нажатий клавиши A за час за всё время:\",\n",
    "     Average(StrokesInPeriod('h', GetKeyLog(\"A\"))))\n",
    "print(\"Число нажатий клавиши A, разбитое по часам:\\n\",\n",
    "     StrokesInPeriod('h', GetKeyLog(\"A\")))"
   ]
  }
 ],
 "metadata": {
  "kernelspec": {
   "display_name": "Python 3",
   "language": "python",
   "name": "python3"
  },
  "language_info": {
   "codemirror_mode": {
    "name": "ipython",
    "version": 3
   },
   "file_extension": ".py",
   "mimetype": "text/x-python",
   "name": "python",
   "nbconvert_exporter": "python",
   "pygments_lexer": "ipython3",
   "version": "3.8.3"
  }
 },
 "nbformat": 4,
 "nbformat_minor": 4
}
